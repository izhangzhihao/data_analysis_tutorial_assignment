{
 "cells": [
  {
   "cell_type": "markdown",
   "metadata": {},
   "source": [
    "1. 通过分析某城市内各个基站的：工作日上班时间人均停留时间、凌晨人均停留时间、周末人均停留时间、日均人流量，来对基站进行聚类分析。（数据文件为：../data/business_circle.xls）"
   ]
  },
  {
   "cell_type": "code",
   "execution_count": 1,
   "metadata": {},
   "outputs": [],
   "source": [
    "import pandas as pd\n",
    "import numpy as np"
   ]
  },
  {
   "cell_type": "code",
   "execution_count": 2,
   "metadata": {},
   "outputs": [
    {
     "data": {
      "text/html": [
       "<div>\n",
       "<style scoped>\n",
       "    .dataframe tbody tr th:only-of-type {\n",
       "        vertical-align: middle;\n",
       "    }\n",
       "\n",
       "    .dataframe tbody tr th {\n",
       "        vertical-align: top;\n",
       "    }\n",
       "\n",
       "    .dataframe thead th {\n",
       "        text-align: right;\n",
       "    }\n",
       "</style>\n",
       "<table border=\"1\" class=\"dataframe\">\n",
       "  <thead>\n",
       "    <tr style=\"text-align: right;\">\n",
       "      <th></th>\n",
       "      <th>工作日上班时间人均停留时间</th>\n",
       "      <th>凌晨人均停留时间</th>\n",
       "      <th>周末人均停留时间</th>\n",
       "      <th>日均人流量</th>\n",
       "    </tr>\n",
       "    <tr>\n",
       "      <th>基站编号</th>\n",
       "      <th></th>\n",
       "      <th></th>\n",
       "      <th></th>\n",
       "      <th></th>\n",
       "    </tr>\n",
       "  </thead>\n",
       "  <tbody>\n",
       "    <tr>\n",
       "      <th>36902</th>\n",
       "      <td>78</td>\n",
       "      <td>521</td>\n",
       "      <td>602</td>\n",
       "      <td>2863</td>\n",
       "    </tr>\n",
       "    <tr>\n",
       "      <th>36903</th>\n",
       "      <td>144</td>\n",
       "      <td>600</td>\n",
       "      <td>521</td>\n",
       "      <td>2245</td>\n",
       "    </tr>\n",
       "    <tr>\n",
       "      <th>36904</th>\n",
       "      <td>95</td>\n",
       "      <td>457</td>\n",
       "      <td>468</td>\n",
       "      <td>1283</td>\n",
       "    </tr>\n",
       "    <tr>\n",
       "      <th>36905</th>\n",
       "      <td>69</td>\n",
       "      <td>596</td>\n",
       "      <td>695</td>\n",
       "      <td>1054</td>\n",
       "    </tr>\n",
       "    <tr>\n",
       "      <th>36906</th>\n",
       "      <td>190</td>\n",
       "      <td>527</td>\n",
       "      <td>691</td>\n",
       "      <td>2051</td>\n",
       "    </tr>\n",
       "  </tbody>\n",
       "</table>\n",
       "</div>"
      ],
      "text/plain": [
       "       工作日上班时间人均停留时间  凌晨人均停留时间  周末人均停留时间  日均人流量\n",
       "基站编号                                           \n",
       "36902             78       521       602   2863\n",
       "36903            144       600       521   2245\n",
       "36904             95       457       468   1283\n",
       "36905             69       596       695   1054\n",
       "36906            190       527       691   2051"
      ]
     },
     "execution_count": 2,
     "metadata": {},
     "output_type": "execute_result"
    }
   ],
   "source": [
    "filename = '../data_analysis_tutorial/data/business_circle.xls'\n",
    "data = pd.read_excel(filename, index_col='基站编号')\n",
    "\n",
    "data.head()"
   ]
  },
  {
   "cell_type": "code",
   "execution_count": 3,
   "metadata": {},
   "outputs": [
    {
     "data": {
      "text/plain": [
       "431"
      ]
     },
     "execution_count": 3,
     "metadata": {},
     "output_type": "execute_result"
    }
   ],
   "source": [
    "len(data)"
   ]
  },
  {
   "cell_type": "code",
   "execution_count": 4,
   "metadata": {},
   "outputs": [
    {
     "name": "stdout",
     "output_type": "stream",
     "text": [
      "计算得到的各类中心点和类别\n",
      "   工作日上班时间人均停留时间  凌晨人均停留时间  周末人均停留时间     日均人流量  类别数量\n",
      "0       1.418780 -0.704932 -0.801638 -0.168344   137\n",
      "1      -0.578455  1.356530  1.282240 -1.011058   148\n",
      "2      -0.744941 -0.713635 -0.547584  1.182874   146\n"
     ]
    }
   ],
   "source": [
    "k = 3\n",
    "iteration = 500\n",
    "\n",
    "normalized_data = 1.0 * (data - data.mean()) / data.std()\n",
    "\n",
    "from sklearn.cluster import KMeans\n",
    "model = KMeans(n_clusters = k, n_jobs = 1, max_iter = iteration, random_state = 0)\n",
    "model.fit(normalized_data)\n",
    "\n",
    "r1 = pd.Series(model.labels_).value_counts()\n",
    "r2 = pd.DataFrame(model.cluster_centers_)\n",
    "\n",
    "r = pd.concat([r2, r1], axis = 1)\n",
    "r.columns = list(data.columns) + ['类别数量']\n",
    "print('计算得到的各类中心点和类别')\n",
    "print(r)"
   ]
  },
  {
   "cell_type": "code",
   "execution_count": 5,
   "metadata": {},
   "outputs": [
    {
     "data": {
      "text/html": [
       "<div>\n",
       "<style scoped>\n",
       "    .dataframe tbody tr th:only-of-type {\n",
       "        vertical-align: middle;\n",
       "    }\n",
       "\n",
       "    .dataframe tbody tr th {\n",
       "        vertical-align: top;\n",
       "    }\n",
       "\n",
       "    .dataframe thead th {\n",
       "        text-align: right;\n",
       "    }\n",
       "</style>\n",
       "<table border=\"1\" class=\"dataframe\">\n",
       "  <thead>\n",
       "    <tr style=\"text-align: right;\">\n",
       "      <th></th>\n",
       "      <th>工作日上班时间人均停留时间</th>\n",
       "      <th>凌晨人均停留时间</th>\n",
       "      <th>周末人均停留时间</th>\n",
       "      <th>日均人流量</th>\n",
       "      <th>聚类类别</th>\n",
       "    </tr>\n",
       "    <tr>\n",
       "      <th>基站编号</th>\n",
       "      <th></th>\n",
       "      <th></th>\n",
       "      <th></th>\n",
       "      <th></th>\n",
       "      <th></th>\n",
       "    </tr>\n",
       "  </thead>\n",
       "  <tbody>\n",
       "    <tr>\n",
       "      <th>36902</th>\n",
       "      <td>78</td>\n",
       "      <td>521</td>\n",
       "      <td>602</td>\n",
       "      <td>2863</td>\n",
       "      <td>1</td>\n",
       "    </tr>\n",
       "    <tr>\n",
       "      <th>36903</th>\n",
       "      <td>144</td>\n",
       "      <td>600</td>\n",
       "      <td>521</td>\n",
       "      <td>2245</td>\n",
       "      <td>1</td>\n",
       "    </tr>\n",
       "    <tr>\n",
       "      <th>36904</th>\n",
       "      <td>95</td>\n",
       "      <td>457</td>\n",
       "      <td>468</td>\n",
       "      <td>1283</td>\n",
       "      <td>1</td>\n",
       "    </tr>\n",
       "    <tr>\n",
       "      <th>36905</th>\n",
       "      <td>69</td>\n",
       "      <td>596</td>\n",
       "      <td>695</td>\n",
       "      <td>1054</td>\n",
       "      <td>1</td>\n",
       "    </tr>\n",
       "    <tr>\n",
       "      <th>36906</th>\n",
       "      <td>190</td>\n",
       "      <td>527</td>\n",
       "      <td>691</td>\n",
       "      <td>2051</td>\n",
       "      <td>1</td>\n",
       "    </tr>\n",
       "  </tbody>\n",
       "</table>\n",
       "</div>"
      ],
      "text/plain": [
       "       工作日上班时间人均停留时间  凌晨人均停留时间  周末人均停留时间  日均人流量  聚类类别\n",
       "基站编号                                                 \n",
       "36902             78       521       602   2863     1\n",
       "36903            144       600       521   2245     1\n",
       "36904             95       457       468   1283     1\n",
       "36905             69       596       695   1054     1\n",
       "36906            190       527       691   2051     1"
      ]
     },
     "execution_count": 5,
     "metadata": {},
     "output_type": "execute_result"
    }
   ],
   "source": [
    "r = pd.concat([data, pd.Series(model.labels_, index = data.index)], axis = 1)\n",
    "r.columns = list(data.columns) + ['聚类类别']\n",
    "r.head()"
   ]
  },
  {
   "cell_type": "code",
   "execution_count": 6,
   "metadata": {
    "scrolled": true
   },
   "outputs": [
    {
     "data": {
      "image/png": "[encoded data removed]",
      "text/plain": [
       "<matplotlib.figure.Figure at 0x7f5468c4b5f8>"
      ]
     },
     "metadata": {},
     "output_type": "display_data"
    }
   ],
   "source": [
    "%matplotlib inline\n",
    "import matplotlib.pyplot as plt\n",
    "from sklearn.decomposition import PCA\n",
    "\n",
    "pca = PCA(n_components=2)\n",
    "reduced_data = pca.fit_transform(normalized_data)\n",
    "transformed_data = pd.DataFrame(reduced_data, index = normalized_data.index)\n",
    "\n",
    "d = transformed_data[r['聚类类别'] == 0]\n",
    "plt.plot(d[0], d[1], 'r.')\n",
    "d = transformed_data[r['聚类类别'] == 1]\n",
    "plt.plot(d[0], d[1], 'go')\n",
    "d = transformed_data[r['聚类类别'] == 2]\n",
    "plt.plot(d[0], d[1], 'b*')\n",
    "plt.show()"
   ]
  },
  {
   "cell_type": "code",
   "execution_count": null,
   "metadata": {},
   "outputs": [],
   "source": []
  }
 ],
 "metadata": {
  "kernelspec": {
   "display_name": "Python 3",
   "language": "python",
   "name": "python3"
  },
  "language_info": {
   "codemirror_mode": {
    "name": "ipython",
    "version": 3
   },
   "file_extension": ".py",
   "mimetype": "text/x-python",
   "name": "python",
   "nbconvert_exporter": "python",
   "pygments_lexer": "ipython3",
   "version": "3.6.4"
  }
 },
 "nbformat": 4,
 "nbformat_minor": 2
}
